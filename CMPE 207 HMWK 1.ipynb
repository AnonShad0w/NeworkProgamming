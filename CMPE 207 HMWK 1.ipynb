{
 "cells": [
  {
   "cell_type": "code",
   "execution_count": 7,
   "metadata": {
    "scrolled": true
   },
   "outputs": [
    {
     "name": "stdout",
     "output_type": "stream",
     "text": [
      
      "\r\n",
      "                                           /~\\                           \r\n",
      "                                          |oo )       What plans?        \r\n",
      "                                          _\\=/_                          \r\n",
      "                          ___            /  _  \\                         \r\n",
      "                         / ()\\          //|/.\\|\\\\                        \r\n",
      "                       _|_____|_       ||  \\_/  ||                       \r\n",
      "                      | | === | |      || |\\ /| ||                       \r\n",
      "                      |_|  O  |_|      #  \\_ _/ #                        \r\n",
      "                       ||  O  ||          | | |                          \r\n",
      "                       ||__*__||          | | |                          \r\n",
      "                      |~ \\___/ ~|         []|[]                          \r\n",
      "                      /=\\ /=\\ /=\\         | | |                          \r\n",
      "      ________________[_]_[_]_[_]________/_]_[_\\_________________________\n"
     ]
    }
   ],
   "source": [
    "import socket\n",
    "import time\n",
    "\n",
    "HOST = '94.142.241.111' # The server's hostname or IP address\n",
    "PORT = 23               # The port used by the server\n",
    "\n",
    "s = socket.socket(socket.AF_INET, socket.SOCK_STREAM)\n",
    "s.connect((HOST, PORT))\n",
    "\n",
    "full_msg = ''\n",
    "end_time = time.time() + 60*2\n",
    "while True:\n",
    "    msg = s.recv(1024)\n",
    "    if time.time() > end_time:\n",
    "        break\n",
    "    if len(msg) <= 0:\n",
    "        break\n",
    "    full_msg += msg.decode('ascii')\n",
    "print(full_msg)"
   ]
  },
  {
   "cell_type": "code",
   "execution_count": null,
   "metadata": {
    "scrolled": false
   },
   "outputs": [],
   "source": [
    "import telnetlib\n",
    "\n",
    "HOST = '94.142.241.111' # The server's hostname or IP address\n",
    "PORT = 23               # The port used by the server\n",
    "\n",
    "tn = telnetlib.Telnet(HOST)\n",
    "\n",
    "print(tn.read_until(match=b\"CMPE207\",timeout=5).decode('ascii'))"
   ]
  },
  {
   "cell_type": "code",
   "execution_count": null,
   "metadata": {},
   "outputs": [],
   "source": []
  }
 ],
 "metadata": {
  "kernelspec": {
   "display_name": "Python 3",
   "language": "python",
   "name": "python3"
  },
  "language_info": {
   "codemirror_mode": {
    "name": "ipython",
    "version": 3
   },
   "file_extension": ".py",
   "mimetype": "text/x-python",
   "name": "python",
   "nbconvert_exporter": "python",
   "pygments_lexer": "ipython3",
   "version": "3.7.7"
  }
 },
 "nbformat": 4,
 "nbformat_minor": 4
}
